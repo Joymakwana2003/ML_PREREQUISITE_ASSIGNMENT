{
  "cells": [
    {
      "cell_type": "markdown",
      "source": [
        "\n",
        "\n",
        "---\n",
        "# Problem 1"
      ],
      "metadata": {
        "id": "_Ni4JIMJBI31"
      }
    },
    {
      "cell_type": "markdown",
      "source": [
        "To perform matrix multiplication between a (n, k) matrix A and a (k, m) matrix B, we have to perform n * m multiplications and additions for each element in the resulting (n, m) matrix C.\n",
        "To compute each element in the resulting matrix C, we need to take the dot product of a row in matrix A and a column in matrix B. The dot product is the sum of the element-wise products of the two vectors. Therefore, we will perform k multiplications and k - 1 additions to compute the dot product.\n",
        "\n",
        "Therefore, for computing a matrix C, \n",
        "*   The number of multiplications are n * m * k\n",
        "*   The number of additions are n * m * (k - 1)\n",
        "\n"
      ],
      "metadata": {
        "id": "BmYdYI8JBbSe"
      }
    },
    {
      "cell_type": "markdown",
      "source": [
        "\n",
        "\n",
        "---\n",
        "# Problem 2"
      ],
      "metadata": {
        "id": "i1byGdXKCrxP"
      }
    },
    {
      "cell_type": "code",
      "source": [
        "# Function for multiplying two matrices\n",
        "def mat_mul(A, B):\n",
        "\n",
        "    rows_A = len(A)\n",
        "    cols_A = len(A[0])\n",
        "    rows_B = len(B)\n",
        "    cols_B = len(B[0])\n",
        "\n",
        "    if cols_A != rows_B:\n",
        "       print(\"Invalid matrix dimensions\")\n",
        "       return -1\n",
        "\n",
        "    ans = []\n",
        "    for row in range(0, rows_A):\n",
        "        ans.append([])\n",
        "        for col in range(0, cols_B):\n",
        "            flag = 0\n",
        "            for i in range(cols_A):\n",
        "                flag += A[row][i] * B[i][col]\n",
        "            ans[row].append(flag)\n",
        "    return ans"
      ],
      "metadata": {
        "id": "tiKkFNlSBGCW"
      },
      "execution_count": null,
      "outputs": []
    },
    {
      "cell_type": "code",
      "execution_count": null,
      "metadata": {
        "colab": {
          "base_uri": "https://localhost:8080/"
        },
        "id": "iGr2soIpuMyo",
        "outputId": "449dbe34-ccc6-4011-8869-fc1a60f8ca6e"
      },
      "outputs": [
        {
          "name": "stdout",
          "output_type": "stream",
          "text": [
            "Time taken using list: 0.000399 seconds\n",
            "Time taken with NumPy: 0.004158 seconds\n"
          ]
        }
      ],
      "source": [
        "import time\n",
        "import random\n",
        "import numpy as np\n",
        "\n",
        "# defining the matrices to be multiplied\n",
        "N=10\n",
        "A = [[random.random() for i in range(N)] for j in range(N)]\n",
        "B = [[random.random() for i in range(N)] for j in range(N)]\n",
        "\n",
        "start_time = time.perf_counter()\n",
        "result = mat_mul(A, B)\n",
        "end_time = time.perf_counter()\n",
        "print(f\"Time taken using list: {end_time - start_time:.6f} seconds\")\n",
        "\n",
        "\n",
        "start_time = time.perf_counter()\n",
        "result = np.matmul(A, B)\n",
        "end_time = time.perf_counter()\n",
        "print(f\"Time taken with NumPy: {end_time - start_time:.6f} seconds\")"
      ]
    },
    {
      "cell_type": "markdown",
      "metadata": {
        "id": "zcqrPYCBzUQG"
      },
      "source": [
        "In general, NumPy will be faster than using a list comprehension because it uses optimization techniques such as memory caching and multithreading. Also, it is implemented in C rather than in python which makes it more faster"
      ]
    },
    {
      "cell_type": "markdown",
      "source": [
        "\n",
        "\n",
        "---\n",
        "# Problem 3"
      ],
      "metadata": {
        "id": "rquL49qkDNnh"
      }
    },
    {
      "cell_type": "markdown",
      "source": [
        "The time complexity for finding the median using the above mentioned method is O($n^2$).\n",
        "\n",
        "According to me, the best method to find the median is to first sort it and then fetch its middle element. The time complexity taken by this method would be $O(n*logn)$ + $O(1)$. Where, $O(n*logn)$ is the time taken to sort the array and $O(1)$ is the time taken to fetch the middle element.\n",
        "\n",
        "The implementation and comparison of both the methods is shown below:"
      ],
      "metadata": {
        "id": "H5IRy5bEGY6E"
      }
    },
    {
      "cell_type": "code",
      "source": [
        "import timeit\n",
        "import numpy\n",
        "\n",
        "# Dummy array\n",
        "arr = [3, 7, 4, 9, 1, 2, 6, 5, 8]\n",
        "\n",
        "# function using multiple iterations\n",
        "def given_fun(arr):\n",
        "    if len(arr) % 2 != 0:\n",
        "        p = len(arr) // 2\n",
        "        for i in range(p + 1):\n",
        "            max = arr[0]\n",
        "            index = 0\n",
        "            for j in range(1, len(arr)):\n",
        "                if arr[j] > max:\n",
        "                    max = arr[j]\n",
        "                    index = j\n",
        "            arr[j] = float('-inf')\n",
        "            \n",
        "        return max\n",
        "\n",
        "    if len(arr) == 0:\n",
        "        return -1\n",
        "    \n",
        "    else:\n",
        "        \n",
        "        n = len(arr) // 2 - 1\n",
        "        \n",
        "        for i in range(n + 1):\n",
        "            max = arr[0]\n",
        "            index = 0\n",
        "            for j in range(1, len(arr)):\n",
        "                if arr[j] > max:\n",
        "                    max = arr[j]\n",
        "                    index = j\n",
        "            arr[j] = float('-inf')\n",
        "        \n",
        "        maxj = max\n",
        "        \n",
        "        for j in range(1 , len(arr)):\n",
        "            if(arr[j] > max):\n",
        "                max = arr[j]\n",
        "            \n",
        "        maxo = max\n",
        "        \n",
        "        return (maxj + maxo) / 2\n",
        "\n",
        "# My function which uses sorting\n",
        "def fun(arr):\n",
        "  arr.sort()\n",
        "  size = len(arr)\n",
        "  if size % 2 == 0:\n",
        "        return (arr[size // 2] + arr[size // 2 - 1]) / 2\n",
        "  else:\n",
        "        return arr[size // 2]\n",
        "\n",
        "# Using the timeit module to measure the execution time of the sorting algo\n",
        "t = timeit.Timer(lambda: fun(arr))\n",
        "print(\"Time taken by my function:\", t.timeit(number=1000), \"seconds\")\n",
        "\n",
        "# Using the timeit module to measure the execution time of the multiple iterations method\n",
        "t = timeit.Timer(lambda: given_fun(arr))\n",
        "print(\"Time taken by multi-pass:\", t.timeit(number=1000), \"seconds\")\n",
        "\n",
        "# Calculating the time taken by numpy.median function\n",
        "t = timeit.Timer(lambda: numpy.median(arr))\n",
        "print(\"numpy.median:\", t.timeit(number=1000), \"seconds\")"
      ],
      "metadata": {
        "colab": {
          "base_uri": "https://localhost:8080/"
        },
        "id": "ksGzKT-VKg3W",
        "outputId": "d6b534b5-59fd-49bc-c569-7fa98fa2c0e2"
      },
      "execution_count": 76,
      "outputs": [
        {
          "output_type": "stream",
          "name": "stdout",
          "text": [
            "Time taken by my function: 0.0007734730006632162 seconds\n",
            "Time taken by multi-pass: 0.006999922999966657 seconds\n",
            "numpy.median: 0.033717577998686465 seconds\n"
          ]
        }
      ]
    },
    {
      "cell_type": "markdown",
      "source": [
        "\n",
        "\n",
        "---\n",
        "# Problem 4"
      ],
      "metadata": {
        "id": "MuoQXiecDN1f"
      }
    },
    {
      "cell_type": "markdown",
      "metadata": {
        "id": "ZnmZB8VEGv_R"
      },
      "source": [
        "The gradient with respect to x and y is,\n",
        "*   $df/dx = 2xy + (y^3)*cosx$\n",
        "*   $df/dy = x^2 + (3y^2)*sinx$\n",
        "\n",
        "\n"
      ]
    },
    {
      "cell_type": "markdown",
      "source": [
        "\n",
        "\n",
        "---\n",
        "# Problem 5"
      ],
      "metadata": {
        "id": "Ym8Ej_WwDSQ1"
      }
    },
    {
      "cell_type": "code",
      "execution_count": 74,
      "metadata": {
        "colab": {
          "base_uri": "https://localhost:8080/"
        },
        "id": "ZzdO7oBbHTFI",
        "outputId": "2a346b4d-c78b-4eb4-c11a-7487d89b7245"
      },
      "outputs": [
        {
          "output_type": "stream",
          "name": "stdout",
          "text": [
            "Gradient points given by Jax : \n",
            "[0.06446373 0.00907266]\n",
            "[0.04499593 0.00526347]\n",
            "(DeviceArray(0.06446373, dtype=float32), DeviceArray(0.04499593, dtype=float32))\n",
            "(DeviceArray(0.00907266, dtype=float32), DeviceArray(0.00526347, dtype=float32))\n"
          ]
        }
      ],
      "source": [
        "import jax\n",
        "import jax.numpy as jnp\n",
        "from jax import grad, jit, random\n",
        "\n",
        "key = random.PRNGKey(7583)\n",
        "\n",
        "\n",
        "def fun(x, y):\n",
        "  return jnp.sum((x**2)*y + (y**3)*(jax.numpy.sin(x)))\n",
        "\n",
        "# Defining the analytical solution for the gradient of f\n",
        "def gradient(x, y):\n",
        "  return ((2 * x * y + jnp.cos(x) * y ** 3), (x**2+3*(y**2)*jnp.sin(x)))\n",
        "\n",
        "# Generating some random values of x and y\n",
        "X = jnp.asarray(random.uniform(key, shape=(2,)))\n",
        "Y = jnp.asarray(random.uniform(key, shape=(2,)))\n",
        "\n",
        "# Using JAX to compute the gradient of fun\n",
        "grad1 = jax.grad(fun, argnums=(0,1))\n",
        "\n",
        "\n",
        "print(\"Gradient points given by Jax : \")\n",
        "print( grad1(X,Y)[0] )\n",
        "print( grad1(X,Y)[1] )\n",
        "\n",
        "for i in range(0 , len(X)):\n",
        "  print(gradient(X[i] , Y[i]))"
      ]
    },
    {
      "cell_type": "markdown",
      "source": [
        "---\n",
        "# Problem 6"
      ],
      "metadata": {
        "id": "hJ8-tlPUDll_"
      }
    },
    {
      "cell_type": "code",
      "source": [
        "import sympy\n",
        "\n",
        "# Defining the function f and the variables x and y using SymPy\n",
        "x, y = sympy.symbols('x y')\n",
        "f = (x**2)*y + (y**3)*(sympy.sin(x))\n",
        "\n",
        "# Using SymPy to compute the gradient of f with respect to x and y\n",
        "gradient = sympy.Matrix([f]).jacobian([x, y])\n",
        "\n",
        "print(gradient)\n"
      ],
      "metadata": {
        "colab": {
          "base_uri": "https://localhost:8080/"
        },
        "id": "Djfk9SMlG9NF",
        "outputId": "37ba02d6-87a7-4c37-b1d1-eaa46db9439f"
      },
      "execution_count": null,
      "outputs": [
        {
          "output_type": "stream",
          "name": "stdout",
          "text": [
            "Matrix([[2*x*y + y**3*cos(x), x**2 + 3*y**2*sin(x)]])\n"
          ]
        }
      ]
    },
    {
      "cell_type": "markdown",
      "source": [
        "Using sympy, I got the same result."
      ],
      "metadata": {
        "id": "oxZab9v_Y9nc"
      }
    },
    {
      "cell_type": "markdown",
      "source": [
        "---\n",
        "# Problem 7"
      ],
      "metadata": {
        "id": "OpgOCkqBDqth"
      }
    },
    {
      "cell_type": "code",
      "source": [
        "# nested dictionaries\n",
        "students = {\n",
        "    2022: {\n",
        "        'Branch 1': [{'Roll Number': 1, 'Name': 'N', 'Marks': {'Maths': 100, 'English': 70}}],\n",
        "        'Branch 2': []\n",
        "    },\n",
        "    2023: {\n",
        "        'Branch 1': [],\n",
        "        'Branch 2': []\n",
        "    },\n",
        "    2024: {\n",
        "        'Branch 1': [],\n",
        "        'Branch 2': []\n",
        "    },\n",
        "    2025: {\n",
        "        'Branch 1': [],\n",
        "        'Branch 2': []\n",
        "    }\n",
        "}\n",
        "\n",
        "marks = students[2022]['Branch 1'][0]['Marks']\n",
        "print(marks) \n"
      ],
      "metadata": {
        "colab": {
          "base_uri": "https://localhost:8080/"
        },
        "id": "ZaUe4DK-G963",
        "outputId": "d16f524e-d625-4288-8e96-a94657b8ca46"
      },
      "execution_count": null,
      "outputs": [
        {
          "output_type": "stream",
          "name": "stdout",
          "text": [
            "{'Maths': 100, 'English': 70}\n"
          ]
        }
      ]
    },
    {
      "cell_type": "markdown",
      "source": [
        "---\n",
        "# Problem 8"
      ],
      "metadata": {
        "id": "m2If6alcDt35"
      }
    },
    {
      "cell_type": "code",
      "source": [
        "class Year:\n",
        "    def __init__(self, year, branches):\n",
        "        self.year = year\n",
        "        self.branches = branches\n",
        "\n",
        "class Branch:\n",
        "    def __init__(self, name, students):\n",
        "        self.name = name\n",
        "        self.students = students\n",
        "\n",
        "class Student:\n",
        "    def __init__(self, roll, name, marks):\n",
        "        self.roll = roll\n",
        "        self.name = name\n",
        "        self.marks = marks\n",
        "\n",
        "\n",
        "\n",
        "database = [\n",
        "    Year(2022, [\n",
        "        Branch('Branch 1', [Student(1, 'N', {'Maths': 100, 'English': 70})]),\n",
        "        Branch('Branch 2', [])\n",
        "    ]),\n",
        "\n",
        "    Year(2023, [\n",
        "        Branch('Branch 1', []),\n",
        "        Branch('Branch 2', [])\n",
        "    ]),\n",
        "    \n",
        "    Year(2024, [\n",
        "        Branch('Branch 1', []),\n",
        "        Branch('Branch 2', [])\n",
        "    ]),\n",
        "    Year(2025, [\n",
        "        Branch('Branch 1', []),\n",
        "        Branch('Branch 2', [])\n",
        "    ]),\n",
        "]\n",
        "\n",
        "print(database[0].branches[0].students[0].marks)\n"
      ],
      "metadata": {
        "colab": {
          "base_uri": "https://localhost:8080/"
        },
        "id": "yigTAyHQG-Eg",
        "outputId": "46610df4-7c4d-4b9c-9b52-f47c4d5336d6"
      },
      "execution_count": 10,
      "outputs": [
        {
          "output_type": "stream",
          "name": "stdout",
          "text": [
            "{'Maths': 100, 'English': 70}\n"
          ]
        }
      ]
    },
    {
      "cell_type": "markdown",
      "source": [
        "---\n",
        "# Problem 9"
      ],
      "metadata": {
        "id": "-U3a4Kd5D1z_"
      }
    },
    {
      "cell_type": "code",
      "source": [
        "import matplotlib.pyplot as plt\n",
        "import numpy as np\n",
        "\n",
        "# Creating a figure and an axis\n",
        "fig, ax = plt.subplots()\n",
        "\n",
        "# Setting the domain for the plot as 0.5 to 100\n",
        "x = np.arange(0.5, 100.0, 0.5)\n",
        "\n",
        "# Plotting the functions\n",
        "ax.plot(x, x, label='x')\n",
        "plt.show()"
      ],
      "metadata": {
        "colab": {
          "base_uri": "https://localhost:8080/",
          "height": 265
        },
        "id": "vjiyZXzeG-X2",
        "outputId": "e7f3147d-60c7-4a1c-a5b3-834856fd90a7"
      },
      "execution_count": 49,
      "outputs": [
        {
          "output_type": "display_data",
          "data": {
            "text/plain": [
              "<Figure size 432x288 with 1 Axes>"
            ],
            "image/png": "[encoded data removed]"
          },
          "metadata": {
            "needs_background": "light"
          }
        }
      ]
    },
    {
      "cell_type": "code",
      "source": [
        "import matplotlib.pyplot as plt\n",
        "import numpy as np\n",
        "\n",
        "# Creating a figure and an axis\n",
        "fig, ax = plt.subplots()\n",
        "\n",
        "# Setting the domain for the plot as 0.5 to 100\n",
        "x = np.arange(0.5, 100.0, 0.5)\n",
        "\n",
        "ax.plot(x, x**2, label='x^2')\n",
        "plt.show()"
      ],
      "metadata": {
        "colab": {
          "base_uri": "https://localhost:8080/",
          "height": 265
        },
        "id": "q7QlE-cvZjaQ",
        "outputId": "9f50c6bd-84b4-4d73-8725-f4015585a90a"
      },
      "execution_count": 50,
      "outputs": [
        {
          "output_type": "display_data",
          "data": {
            "text/plain": [
              "<Figure size 432x288 with 1 Axes>"
            ],
            "image/png": "[encoded data removed]"
          },
          "metadata": {
            "needs_background": "light"
          }
        }
      ]
    },
    {
      "cell_type": "code",
      "source": [
        "import matplotlib.pyplot as plt\n",
        "import numpy as np\n",
        "\n",
        "# Creating a figure and an axis\n",
        "fig, ax = plt.subplots()\n",
        "\n",
        "# Setting the domain for the plot as 0.5 to 100\n",
        "x = np.arange(0.5, 100.0, 0.5)\n",
        "\n",
        "ax.plot(x, x**3/100, label='x^3/100')\n",
        "plt.show()"
      ],
      "metadata": {
        "id": "UzGy0LZNZhLT"
      },
      "execution_count": 43,
      "outputs": []
    },
    {
      "cell_type": "code",
      "source": [
        "import matplotlib.pyplot as plt\n",
        "import numpy as np\n",
        "\n",
        "# Creating a figure and an axis\n",
        "fig, ax = plt.subplots()\n",
        "\n",
        "# Setting the domain for the plot as 0.5 to 100\n",
        "x = np.arange(0.5, 100.0, 0.5)\n",
        "\n",
        "ax.plot(x, np.sin(x), label='sin(x)')\n",
        "plt.show()"
      ],
      "metadata": {
        "id": "7yO5fIicZx78"
      },
      "execution_count": 47,
      "outputs": []
    },
    {
      "cell_type": "code",
      "source": [
        "import matplotlib.pyplot as plt\n",
        "import numpy as np\n",
        "\n",
        "# Creating a figure and an axis\n",
        "fig, ax = plt.subplots()\n",
        "\n",
        "# Setting the domain for the plot as 0.5 to 100\n",
        "x = np.arange(0.5, 100.0, 0.5)\n",
        "\n",
        "ax.plot(x, np.sin(x)/x, label='sin(x)/x')\n",
        "plt.show()"
      ],
      "metadata": {
        "colab": {
          "base_uri": "https://localhost:8080/",
          "height": 266
        },
        "id": "j8J9XqQsZzpB",
        "outputId": "b49ebccb-6a13-45ed-b6d9-906f29b7ddbe"
      },
      "execution_count": 51,
      "outputs": [
        {
          "output_type": "display_data",
          "data": {
            "text/plain": [
              "<Figure size 432x288 with 1 Axes>"
            ],
            "image/png": "[encoded data removed]"
          },
          "metadata": {
            "needs_background": "light"
          }
        }
      ]
    },
    {
      "cell_type": "code",
      "source": [
        "import matplotlib.pyplot as plt\n",
        "import numpy as np\n",
        "\n",
        "# Creating a figure and an axis\n",
        "fig, ax = plt.subplots()\n",
        "\n",
        "# Setting the domain for the plot as 0.5 to 100\n",
        "x = np.arange(0.5, 100.0, 0.5)\n",
        "\n",
        "ax.plot(x, np.log(x), label='log(x)')\n",
        "plt.show()"
      ],
      "metadata": {
        "id": "KxIvkYtfZ-Ym"
      },
      "execution_count": 45,
      "outputs": []
    },
    {
      "cell_type": "code",
      "source": [
        "import matplotlib.pyplot as plt\n",
        "import numpy as np\n",
        "\n",
        "# Creating a figure and an axis\n",
        "fig, ax = plt.subplots()\n",
        "\n",
        "# Setting the domain for the plot as 0.5 to 100\n",
        "x = np.arange(0.5, 100.0, 0.5)\n",
        "\n",
        "ax.plot(x, np.exp(x), label='e^x')\n",
        "plt.show()"
      ],
      "metadata": {
        "id": "cJN2mTYbZ_SK"
      },
      "execution_count": 44,
      "outputs": []
    },
    {
      "cell_type": "markdown",
      "source": [
        "---\n",
        "# Problem 10"
      ],
      "metadata": {
        "id": "M0P9cckkEApv"
      }
    },
    {
      "cell_type": "code",
      "source": [
        "import numpy as np\n",
        "import pandas as pd\n",
        "\n",
        "# Generating a matrix of size 20x5 containing random numbers from the range of 1 to 2\n",
        "matrix = np.random.uniform(1, 2, size=(20, 5))\n",
        "\n",
        "# Creating a Pandas dataframe from the matrix\n",
        "df = pd.DataFrame(matrix, columns=[\"a\", \"b\", \"c\", \"d\", \"e\"])\n",
        "print(df)\n",
        "\n",
        "# To find the column with the highest standard deviation, I used the df.std() method and \n",
        "# passed the axis parameter as 0 to calculate the standard deviation across the columns.\n",
        "# Then, I used the idxmax() method to find the column with the highest standard deviation.\n",
        "column = df.std(axis=0).idxmax()\n",
        "print(f\"Column with highest standard deviation: {column}\")\n",
        "\n",
        "# To find the row with the lowest mean, I used the df.mean() method and pass the axis parameter as 1 to calculate the mean across the rows. \n",
        "# Then, I used the idxmin() method to find the row with the lowest mean.\n",
        "row = df.mean(axis=1).idxmin()\n",
        "print(f\"Row with lowest mean: {row}\")"
      ],
      "metadata": {
        "colab": {
          "base_uri": "https://localhost:8080/"
        },
        "id": "UEgBG-hvG-hd",
        "outputId": "aa0b349a-c344-455a-9517-f7fe35de8e6d"
      },
      "execution_count": null,
      "outputs": [
        {
          "output_type": "stream",
          "name": "stdout",
          "text": [
            "           a         b         c         d         e\n",
            "0   1.260390  1.405342  1.851102  1.701950  1.899315\n",
            "1   1.607242  1.858384  1.056556  1.905516  1.651688\n",
            "2   1.774901  1.982750  1.683218  1.930080  1.148602\n",
            "3   1.693077  1.114704  1.612178  1.399053  1.156729\n",
            "4   1.228794  1.491018  1.559366  1.362263  1.853584\n",
            "5   1.032556  1.029683  1.020265  1.575386  1.155523\n",
            "6   1.196912  1.690211  1.050468  1.506123  1.832424\n",
            "7   1.555583  1.441600  1.298275  1.269676  1.505188\n",
            "8   1.665076  1.072468  1.096759  1.435687  1.580234\n",
            "9   1.127131  1.754825  1.975558  1.232067  1.442722\n",
            "10  1.394184  1.584901  1.837706  1.306524  1.533170\n",
            "11  1.989021  1.758777  1.099039  1.471175  1.232593\n",
            "12  1.059572  1.987454  1.030120  1.921818  1.193726\n",
            "13  1.790954  1.704544  1.134646  1.973427  1.508283\n",
            "14  1.633356  1.494114  1.945137  1.202115  1.488931\n",
            "15  1.843360  1.563089  1.220913  1.922235  1.518281\n",
            "16  1.552454  1.272866  1.314018  1.778982  1.542919\n",
            "17  1.298730  1.912517  1.431894  1.354239  1.826197\n",
            "18  1.921980  1.445482  1.602871  1.563604  1.978093\n",
            "19  1.564714  1.830397  1.623520  1.550607  1.202761\n",
            "Column with highest standard deviation: c\n",
            "Row with lowest mean: 5\n"
          ]
        }
      ]
    },
    {
      "cell_type": "markdown",
      "source": [
        "---\n",
        "# Problem 11"
      ],
      "metadata": {
        "id": "-6h4RbMYEF8i"
      }
    },
    {
      "cell_type": "code",
      "source": [
        "# adding column f as the sum of columns a, b, c, d, and e \n",
        "df[\"f\"] = df[\"a\"] + df[\"b\"] + df[\"c\"] + df[\"d\"] + df[\"e\"]\n",
        "\n",
        "# adding column g with the condition (if df[\"f\"] < 8 then df[g] = LT8, else df[g] = GT8)\n",
        "df[\"g\"] = np.where(df[\"f\"] < 8, \"LT8\", \"GT8\")\n",
        "print(df)\n",
        "\n",
        "# Finding the number of rows in the dataframe where the value in the column \"g\" is \"LT8\"\n",
        "# I used the df[df[\"g\"] == \"LT8\"] to select the rows where the value in the column \"g\" is \"LT8\"\n",
        "# then used the shape attribute to get the number of rows. \n",
        "rows_lt8 = df[df[\"g\"] == \"LT8\"].shape[0]\n",
        "print(f\"Number of rows where the value in the column 'g' is 'LT8': {rows_lt8}\")\n",
        "\n",
        "# Finding the standard deviation of the column \"f\" for the rows where the value in the column \"g\" is \"LT8\"\n",
        "std_f_lt8 = df.loc[df[\"g\"] == \"LT8\", \"f\"].std()\n",
        "print(f\"Standard deviation for lt8: {std_f_lt8}\")\n",
        "\n",
        "# Find the standard deviation of the column \"f\" for the rows where the value in the column \"g\" is \"GT8\"\n",
        "std_f_gt8 = df.loc[df[\"g\"] == \"GT8\", \"f\"].std()\n",
        "print(f\"Standard deviation for gt8: {std_f_gt8}\")"
      ],
      "metadata": {
        "colab": {
          "base_uri": "https://localhost:8080/"
        },
        "id": "jBPiQ3RjG-pu",
        "outputId": "9dac2049-d5a5-47db-a36c-f472f7aadebb"
      },
      "execution_count": null,
      "outputs": [
        {
          "output_type": "stream",
          "name": "stdout",
          "text": [
            "           a         b         c         d         e         f    g\n",
            "0   1.591459  1.660724  1.902094  1.150880  1.253726  7.558883  LT8\n",
            "1   1.610808  1.691199  1.228854  1.593770  1.757466  7.882097  LT8\n",
            "2   1.214276  1.864512  1.326646  1.400468  1.012126  6.818028  LT8\n",
            "3   1.381286  1.752604  1.584666  1.840248  1.894416  8.453221  GT8\n",
            "4   1.740530  1.748690  1.419446  1.723698  1.728179  8.360544  GT8\n",
            "5   1.300792  1.796090  1.996422  1.523181  1.354313  7.970798  LT8\n",
            "6   1.829102  1.092691  1.813282  1.052524  1.454331  7.241931  LT8\n",
            "7   1.290047  1.670813  1.263147  1.579005  1.935827  7.738839  LT8\n",
            "8   1.074829  1.166432  1.707994  1.336478  1.555487  6.841220  LT8\n",
            "9   1.188454  1.460791  1.870239  1.156205  1.401275  7.076964  LT8\n",
            "10  1.434914  1.970616  1.944821  1.981042  1.793107  9.124500  GT8\n",
            "11  1.743472  1.886184  1.230006  1.092526  1.323437  7.275625  LT8\n",
            "12  1.632003  1.325824  1.401225  1.795168  1.135978  7.290199  LT8\n",
            "13  1.891398  1.094803  1.267937  1.506711  1.211902  6.972751  LT8\n",
            "14  1.368352  1.029622  1.539332  1.956215  1.708878  7.602399  LT8\n",
            "15  1.043991  1.973371  1.204380  1.166077  1.418747  6.806566  LT8\n",
            "16  1.263640  1.616678  1.878413  1.432065  1.361317  7.552113  LT8\n",
            "17  1.310667  1.350610  1.495820  1.047792  1.215003  6.419892  LT8\n",
            "18  1.542466  1.352802  1.211059  1.878315  1.039581  7.024224  LT8\n",
            "19  1.362263  1.934172  1.927558  1.454589  1.243274  7.921855  LT8\n",
            "Number of rows where the value in the column 'g' is 'LT8': 17\n",
            "Standard deviation for lt8: 0.45326977493527687\n",
            "Standard deviation for gt8: 0.4169003916429455\n"
          ]
        }
      ]
    },
    {
      "cell_type": "markdown",
      "source": [
        "---\n",
        "# Problem 12"
      ],
      "metadata": {
        "id": "GzhZgnylEJX0"
      }
    },
    {
      "cell_type": "code",
      "source": [
        "import numpy as np\n",
        "\n",
        "# Creating a 2D array\n",
        "a = np.array([[1, 2, 3], [4, 5, 6], [7, 8, 9]])\n",
        "\n",
        "# Printing the original array\n",
        "print(\"Initial array:\")\n",
        "print(a)\n",
        "\n",
        "# Multiplying the scalar 10 to the array\n",
        "b = a * 10\n",
        "\n",
        "# Printing the result\n",
        "print(\"\\nAfter multiplying a scalar to the array:\")\n",
        "print(b)\n"
      ],
      "metadata": {
        "colab": {
          "base_uri": "https://localhost:8080/"
        },
        "id": "PZZGdOLHuLLW",
        "outputId": "5d127dd2-109b-457e-a83c-fec87e5d5dd2"
      },
      "execution_count": null,
      "outputs": [
        {
          "output_type": "stream",
          "name": "stdout",
          "text": [
            "Original array:\n",
            "[[1 2 3]\n",
            " [4 5 6]\n",
            " [7 8 9]]\n",
            "\n",
            "After adding a scalar to the array:\n",
            "[[10 20 30]\n",
            " [40 50 60]\n",
            " [70 80 90]]\n"
          ]
        }
      ]
    },
    {
      "cell_type": "markdown",
      "source": [
        "I multiplied the scalar 10 to the array 'a' of shape (3, 3). NumPy automatically broadcasts the scalar to an array of the same shape as 'a' and performs the multiplicatoin element-wise. This is an example of broadcasting a scalar to an array.\n",
        "\n",
        "Broadcasting is a powerful feature in NumPy that allows to perform arithmetic operations between arrays of different shapes in a consistent and efficient way."
      ],
      "metadata": {
        "id": "znFkOSCju1Ik"
      }
    },
    {
      "cell_type": "markdown",
      "source": [
        "---\n",
        "# Problem 13"
      ],
      "metadata": {
        "id": "PX0alrf3EODy"
      }
    },
    {
      "cell_type": "code",
      "source": [
        "import numpy as np\n",
        "\n",
        "# My function which returns the index of the element having min value\n",
        "def fun(arr):\n",
        "    index = 0\n",
        "    val = arr[0]\n",
        "    for i in range(0, len(arr)) :\n",
        "      if (arr[i]<val):\n",
        "        val = arr[i]\n",
        "        index = i\n",
        "\n",
        "    return index\n",
        "\n",
        "# Creating a numpy array\n",
        "arr = np.array([3, 10, 7, 1, 2])\n",
        "\n",
        "# Getting the index of the minimum element from my function\n",
        "index1 = fun(arr)\n",
        "\n",
        "# Getting the index of the min element using argmin\n",
        "index2 = np.argmin(arr)\n",
        "\n",
        "if (index1 == index2):\n",
        "  print(\"Correct!\")\n",
        "\n",
        "else:\n",
        "  print(\"Incorrect!\")"
      ],
      "metadata": {
        "colab": {
          "base_uri": "https://localhost:8080/"
        },
        "id": "D6XpsOhxLtJz",
        "outputId": "ded598e9-1897-4212-f5f2-d2ab04b9b6da"
      },
      "execution_count": null,
      "outputs": [
        {
          "output_type": "stream",
          "name": "stdout",
          "text": [
            "Correct!\n"
          ]
        }
      ]
    }
  ],
  "metadata": {
    "colab": {
      "provenance": [],
      "collapsed_sections": [
        "hJ8-tlPUDll_",
        "OpgOCkqBDqth",
        "m2If6alcDt35"
      ]
    },
    "kernelspec": {
      "display_name": "Python 3",
      "name": "python3"
    },
    "language_info": {
      "name": "python"
    }
  },
  "nbformat": 4,
  "nbformat_minor": 0
}